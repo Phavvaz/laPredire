{
 "cells": [
  {
   "cell_type": "code",
   "execution_count": null,
   "id": "b5ea5a7a",
   "metadata": {},
   "outputs": [],
   "source": [
    "import numpy as np\n",
    "import pandas as pd\n",
    "import matplotlib.pyplot as plt\n",
    "import seaborn as sns"
   ]
  },
  {
   "cell_type": "code",
   "execution_count": null,
   "id": "eb952c8d",
   "metadata": {},
   "outputs": [],
   "source": [
    "barca_fix = pd.read_json('C://Users//PHAVVAZ//Documents//MyProject//Programming//la_Predire//data/fixtures.json')"
   ]
  },
  {
   "cell_type": "code",
   "execution_count": null,
   "id": "0e93d715",
   "metadata": {},
   "outputs": [],
   "source": [
    "def result(home, away, home_score, away_score):\n",
    "    if (home == 'Barcelona') and (home_score > away_score):\n",
    "        return \"W\"\n",
    "    \n",
    "    elif (home == 'Barcelona') and (home_score < away_score):\n",
    "        return \"L\"\n",
    "    \n",
    "    elif (home != 'Barcelona') and (home_score > away_score):\n",
    "        return \"L\"\n",
    "    \n",
    "    elif (home != 'Barcelona') and (home_score < away_score):\n",
    "        return \"W\"\n",
    "    \n",
    "    elif (home == 'Barcelona') and (home_score == away_score):\n",
    "        return \"D\"\n",
    "    \n",
    "    elif (home != 'Barcelona') and (home_score == away_score):\n",
    "        return \"D\""
   ]
  },
  {
   "cell_type": "code",
   "execution_count": null,
   "id": "127c7bab",
   "metadata": {},
   "outputs": [],
   "source": [
    "barca_fix['result'] = np.vectorize(result)(barca_fix['Home'], barca_fix['Away'], barca_fix['Home_score'], barca_fix['Away_score'])"
   ]
  },
  {
   "cell_type": "code",
   "execution_count": null,
   "id": "f2922637",
   "metadata": {},
   "outputs": [
    {
     "data": {
      "text/html": [
       "<div>\n",
       "<style scoped>\n",
       "    .dataframe tbody tr th:only-of-type {\n",
       "        vertical-align: middle;\n",
       "    }\n",
       "\n",
       "    .dataframe tbody tr th {\n",
       "        vertical-align: top;\n",
       "    }\n",
       "\n",
       "    .dataframe thead th {\n",
       "        text-align: right;\n",
       "    }\n",
       "</style>\n",
       "<table border=\"1\" class=\"dataframe\">\n",
       "  <thead>\n",
       "    <tr style=\"text-align: right;\">\n",
       "      <th></th>\n",
       "      <th>Season</th>\n",
       "      <th>Home</th>\n",
       "      <th>Away</th>\n",
       "      <th>Home_score</th>\n",
       "      <th>Away_score</th>\n",
       "      <th>result</th>\n",
       "    </tr>\n",
       "  </thead>\n",
       "  <tbody>\n",
       "    <tr>\n",
       "      <th>0</th>\n",
       "      <td>2000-2001</td>\n",
       "      <td>Barcelona</td>\n",
       "      <td>Celta Vigo</td>\n",
       "      <td>1</td>\n",
       "      <td>1</td>\n",
       "      <td>D</td>\n",
       "    </tr>\n",
       "    <tr>\n",
       "      <th>1</th>\n",
       "      <td>2000-2001</td>\n",
       "      <td>Celta Vigo</td>\n",
       "      <td>Barcelona</td>\n",
       "      <td>3</td>\n",
       "      <td>1</td>\n",
       "      <td>L</td>\n",
       "    </tr>\n",
       "    <tr>\n",
       "      <th>2</th>\n",
       "      <td>2000-2001</td>\n",
       "      <td>Barcelona</td>\n",
       "      <td>Valencia</td>\n",
       "      <td>3</td>\n",
       "      <td>2</td>\n",
       "      <td>W</td>\n",
       "    </tr>\n",
       "    <tr>\n",
       "      <th>3</th>\n",
       "      <td>2000-2001</td>\n",
       "      <td>Real Valladolid</td>\n",
       "      <td>Barcelona</td>\n",
       "      <td>2</td>\n",
       "      <td>2</td>\n",
       "      <td>D</td>\n",
       "    </tr>\n",
       "    <tr>\n",
       "      <th>4</th>\n",
       "      <td>2000-2001</td>\n",
       "      <td>Barcelona</td>\n",
       "      <td>Real Oviedo</td>\n",
       "      <td>0</td>\n",
       "      <td>1</td>\n",
       "      <td>L</td>\n",
       "    </tr>\n",
       "  </tbody>\n",
       "</table>\n",
       "</div>"
      ],
      "text/plain": [
       "      Season             Home         Away  Home_score  Away_score result\n",
       "0  2000-2001        Barcelona   Celta Vigo           1           1      D\n",
       "1  2000-2001       Celta Vigo    Barcelona           3           1      L\n",
       "2  2000-2001        Barcelona     Valencia           3           2      W\n",
       "3  2000-2001  Real Valladolid    Barcelona           2           2      D\n",
       "4  2000-2001        Barcelona  Real Oviedo           0           1      L"
      ]
     },
     "execution_count": 38,
     "metadata": {},
     "output_type": "execute_result"
    },
    {
     "data": {
      "text/html": [
       "<div>\n",
       "<style scoped>\n",
       "    .dataframe tbody tr th:only-of-type {\n",
       "        vertical-align: middle;\n",
       "    }\n",
       "\n",
       "    .dataframe tbody tr th {\n",
       "        vertical-align: top;\n",
       "    }\n",
       "\n",
       "    .dataframe thead th {\n",
       "        text-align: right;\n",
       "    }\n",
       "</style>\n",
       "<table border=\"1\" class=\"dataframe\">\n",
       "  <thead>\n",
       "    <tr style=\"text-align: right;\">\n",
       "      <th></th>\n",
       "      <th>Season</th>\n",
       "      <th>Home</th>\n",
       "      <th>Away</th>\n",
       "      <th>Home_score</th>\n",
       "      <th>Away_score</th>\n",
       "      <th>result</th>\n",
       "    </tr>\n",
       "  </thead>\n",
       "  <tbody>\n",
       "    <tr>\n",
       "      <th>0</th>\n",
       "      <td>2000-2001</td>\n",
       "      <td>Barcelona</td>\n",
       "      <td>Celta Vigo</td>\n",
       "      <td>1</td>\n",
       "      <td>1</td>\n",
       "      <td>D</td>\n",
       "    </tr>\n",
       "    <tr>\n",
       "      <th>1</th>\n",
       "      <td>2000-2001</td>\n",
       "      <td>Celta Vigo</td>\n",
       "      <td>Barcelona</td>\n",
       "      <td>3</td>\n",
       "      <td>1</td>\n",
       "      <td>L</td>\n",
       "    </tr>\n",
       "    <tr>\n",
       "      <th>2</th>\n",
       "      <td>2000-2001</td>\n",
       "      <td>Barcelona</td>\n",
       "      <td>Valencia</td>\n",
       "      <td>3</td>\n",
       "      <td>2</td>\n",
       "      <td>W</td>\n",
       "    </tr>\n",
       "    <tr>\n",
       "      <th>3</th>\n",
       "      <td>2000-2001</td>\n",
       "      <td>Real Valladolid</td>\n",
       "      <td>Barcelona</td>\n",
       "      <td>2</td>\n",
       "      <td>2</td>\n",
       "      <td>D</td>\n",
       "    </tr>\n",
       "    <tr>\n",
       "      <th>4</th>\n",
       "      <td>2000-2001</td>\n",
       "      <td>Barcelona</td>\n",
       "      <td>Real Oviedo</td>\n",
       "      <td>0</td>\n",
       "      <td>1</td>\n",
       "      <td>L</td>\n",
       "    </tr>\n",
       "  </tbody>\n",
       "</table>\n",
       "</div>"
      ],
      "text/plain": [
       "      Season             Home         Away  Home_score  Away_score result\n",
       "0  2000-2001        Barcelona   Celta Vigo           1           1      D\n",
       "1  2000-2001       Celta Vigo    Barcelona           3           1      L\n",
       "2  2000-2001        Barcelona     Valencia           3           2      W\n",
       "3  2000-2001  Real Valladolid    Barcelona           2           2      D\n",
       "4  2000-2001        Barcelona  Real Oviedo           0           1      L"
      ]
     },
     "execution_count": 38,
     "metadata": {},
     "output_type": "execute_result"
    }
   ],
   "source": [
    "barca_fix.head()"
   ]
  },
  {
   "cell_type": "code",
   "execution_count": null,
   "id": "21adfa4a",
   "metadata": {},
   "outputs": [
    {
     "name": "stdout",
     "output_type": "stream",
     "text": [
      "<class 'pandas.core.frame.DataFrame'>\n",
      "RangeIndex: 1212 entries, 0 to 1211\n",
      "Data columns (total 6 columns):\n",
      " #   Column      Non-Null Count  Dtype \n",
      "---  ------      --------------  ----- \n",
      " 0   Season      1212 non-null   object\n",
      " 1   Home        1212 non-null   object\n",
      " 2   Away        1212 non-null   object\n",
      " 3   Home_score  1212 non-null   int64 \n",
      " 4   Away_score  1212 non-null   int64 \n",
      " 5   result      1212 non-null   object\n",
      "dtypes: int64(2), object(4)\n",
      "memory usage: 56.9+ KB\n",
      "<class 'pandas.core.frame.DataFrame'>\n",
      "RangeIndex: 1212 entries, 0 to 1211\n",
      "Data columns (total 6 columns):\n",
      " #   Column      Non-Null Count  Dtype \n",
      "---  ------      --------------  ----- \n",
      " 0   Season      1212 non-null   object\n",
      " 1   Home        1212 non-null   object\n",
      " 2   Away        1212 non-null   object\n",
      " 3   Home_score  1212 non-null   int64 \n",
      " 4   Away_score  1212 non-null   int64 \n",
      " 5   result      1212 non-null   object\n",
      "dtypes: int64(2), object(4)\n",
      "memory usage: 56.9+ KB\n"
     ]
    }
   ],
   "source": [
    "barca_fix.info()"
   ]
  },
  {
   "cell_type": "code",
   "execution_count": null,
   "id": "39e3a852",
   "metadata": {},
   "outputs": [
    {
     "data": {
      "text/html": [
       "<div>\n",
       "<style scoped>\n",
       "    .dataframe tbody tr th:only-of-type {\n",
       "        vertical-align: middle;\n",
       "    }\n",
       "\n",
       "    .dataframe tbody tr th {\n",
       "        vertical-align: top;\n",
       "    }\n",
       "\n",
       "    .dataframe thead th {\n",
       "        text-align: right;\n",
       "    }\n",
       "</style>\n",
       "<table border=\"1\" class=\"dataframe\">\n",
       "  <thead>\n",
       "    <tr style=\"text-align: right;\">\n",
       "      <th></th>\n",
       "      <th>count</th>\n",
       "      <th>mean</th>\n",
       "      <th>std</th>\n",
       "      <th>min</th>\n",
       "      <th>25%</th>\n",
       "      <th>50%</th>\n",
       "      <th>75%</th>\n",
       "      <th>max</th>\n",
       "    </tr>\n",
       "  </thead>\n",
       "  <tbody>\n",
       "    <tr>\n",
       "      <th>Home_score</th>\n",
       "      <td>1212.0</td>\n",
       "      <td>1.863036</td>\n",
       "      <td>1.656572</td>\n",
       "      <td>0.0</td>\n",
       "      <td>1.0</td>\n",
       "      <td>2.0</td>\n",
       "      <td>3.0</td>\n",
       "      <td>9.0</td>\n",
       "    </tr>\n",
       "    <tr>\n",
       "      <th>Away_score</th>\n",
       "      <td>1212.0</td>\n",
       "      <td>1.367162</td>\n",
       "      <td>1.375020</td>\n",
       "      <td>0.0</td>\n",
       "      <td>0.0</td>\n",
       "      <td>1.0</td>\n",
       "      <td>2.0</td>\n",
       "      <td>8.0</td>\n",
       "    </tr>\n",
       "  </tbody>\n",
       "</table>\n",
       "</div>"
      ],
      "text/plain": [
       "             count      mean       std  min  25%  50%  75%  max\n",
       "Home_score  1212.0  1.863036  1.656572  0.0  1.0  2.0  3.0  9.0\n",
       "Away_score  1212.0  1.367162  1.375020  0.0  0.0  1.0  2.0  8.0"
      ]
     },
     "execution_count": 40,
     "metadata": {},
     "output_type": "execute_result"
    },
    {
     "data": {
      "text/html": [
       "<div>\n",
       "<style scoped>\n",
       "    .dataframe tbody tr th:only-of-type {\n",
       "        vertical-align: middle;\n",
       "    }\n",
       "\n",
       "    .dataframe tbody tr th {\n",
       "        vertical-align: top;\n",
       "    }\n",
       "\n",
       "    .dataframe thead th {\n",
       "        text-align: right;\n",
       "    }\n",
       "</style>\n",
       "<table border=\"1\" class=\"dataframe\">\n",
       "  <thead>\n",
       "    <tr style=\"text-align: right;\">\n",
       "      <th></th>\n",
       "      <th>count</th>\n",
       "      <th>mean</th>\n",
       "      <th>std</th>\n",
       "      <th>min</th>\n",
       "      <th>25%</th>\n",
       "      <th>50%</th>\n",
       "      <th>75%</th>\n",
       "      <th>max</th>\n",
       "    </tr>\n",
       "  </thead>\n",
       "  <tbody>\n",
       "    <tr>\n",
       "      <th>Home_score</th>\n",
       "      <td>1212.0</td>\n",
       "      <td>1.863036</td>\n",
       "      <td>1.656572</td>\n",
       "      <td>0.0</td>\n",
       "      <td>1.0</td>\n",
       "      <td>2.0</td>\n",
       "      <td>3.0</td>\n",
       "      <td>9.0</td>\n",
       "    </tr>\n",
       "    <tr>\n",
       "      <th>Away_score</th>\n",
       "      <td>1212.0</td>\n",
       "      <td>1.367162</td>\n",
       "      <td>1.375020</td>\n",
       "      <td>0.0</td>\n",
       "      <td>0.0</td>\n",
       "      <td>1.0</td>\n",
       "      <td>2.0</td>\n",
       "      <td>8.0</td>\n",
       "    </tr>\n",
       "  </tbody>\n",
       "</table>\n",
       "</div>"
      ],
      "text/plain": [
       "             count      mean       std  min  25%  50%  75%  max\n",
       "Home_score  1212.0  1.863036  1.656572  0.0  1.0  2.0  3.0  9.0\n",
       "Away_score  1212.0  1.367162  1.375020  0.0  0.0  1.0  2.0  8.0"
      ]
     },
     "execution_count": 40,
     "metadata": {},
     "output_type": "execute_result"
    }
   ],
   "source": [
    "barca_fix.describe().transpose()"
   ]
  },
  {
   "cell_type": "code",
   "execution_count": null,
   "id": "947ff188",
   "metadata": {},
   "outputs": [],
   "source": [
    "barca_fix = barca_fix.drop(['Season', 'Home_score', 'Away_score'], axis=1)"
   ]
  },
  {
   "cell_type": "code",
   "execution_count": null,
   "id": "9ff2d763",
   "metadata": {},
   "outputs": [
    {
     "data": {
      "text/html": [
       "<div>\n",
       "<style scoped>\n",
       "    .dataframe tbody tr th:only-of-type {\n",
       "        vertical-align: middle;\n",
       "    }\n",
       "\n",
       "    .dataframe tbody tr th {\n",
       "        vertical-align: top;\n",
       "    }\n",
       "\n",
       "    .dataframe thead th {\n",
       "        text-align: right;\n",
       "    }\n",
       "</style>\n",
       "<table border=\"1\" class=\"dataframe\">\n",
       "  <thead>\n",
       "    <tr style=\"text-align: right;\">\n",
       "      <th></th>\n",
       "      <th>Home</th>\n",
       "      <th>Away</th>\n",
       "      <th>result</th>\n",
       "    </tr>\n",
       "  </thead>\n",
       "  <tbody>\n",
       "    <tr>\n",
       "      <th>0</th>\n",
       "      <td>Barcelona</td>\n",
       "      <td>Celta Vigo</td>\n",
       "      <td>D</td>\n",
       "    </tr>\n",
       "    <tr>\n",
       "      <th>1</th>\n",
       "      <td>Celta Vigo</td>\n",
       "      <td>Barcelona</td>\n",
       "      <td>L</td>\n",
       "    </tr>\n",
       "    <tr>\n",
       "      <th>2</th>\n",
       "      <td>Barcelona</td>\n",
       "      <td>Valencia</td>\n",
       "      <td>W</td>\n",
       "    </tr>\n",
       "    <tr>\n",
       "      <th>3</th>\n",
       "      <td>Real Valladolid</td>\n",
       "      <td>Barcelona</td>\n",
       "      <td>D</td>\n",
       "    </tr>\n",
       "    <tr>\n",
       "      <th>4</th>\n",
       "      <td>Barcelona</td>\n",
       "      <td>Real Oviedo</td>\n",
       "      <td>L</td>\n",
       "    </tr>\n",
       "    <tr>\n",
       "      <th>...</th>\n",
       "      <td>...</td>\n",
       "      <td>...</td>\n",
       "      <td>...</td>\n",
       "    </tr>\n",
       "    <tr>\n",
       "      <th>1207</th>\n",
       "      <td>Barcelona</td>\n",
       "      <td>Alaves</td>\n",
       "      <td>W</td>\n",
       "    </tr>\n",
       "    <tr>\n",
       "      <th>1208</th>\n",
       "      <td>Sevilla</td>\n",
       "      <td>Barcelona</td>\n",
       "      <td>W</td>\n",
       "    </tr>\n",
       "    <tr>\n",
       "      <th>1209</th>\n",
       "      <td>AC Milan</td>\n",
       "      <td>Barcelona</td>\n",
       "      <td>L</td>\n",
       "    </tr>\n",
       "    <tr>\n",
       "      <th>1210</th>\n",
       "      <td>Barcelona</td>\n",
       "      <td>Roma</td>\n",
       "      <td>L</td>\n",
       "    </tr>\n",
       "    <tr>\n",
       "      <th>1211</th>\n",
       "      <td>Barcelona</td>\n",
       "      <td>Tottenham Hotspur</td>\n",
       "      <td>D</td>\n",
       "    </tr>\n",
       "  </tbody>\n",
       "</table>\n",
       "<p>1212 rows × 3 columns</p>\n",
       "</div>"
      ],
      "text/plain": [
       "                 Home               Away result\n",
       "0           Barcelona         Celta Vigo      D\n",
       "1          Celta Vigo          Barcelona      L\n",
       "2           Barcelona           Valencia      W\n",
       "3     Real Valladolid          Barcelona      D\n",
       "4           Barcelona        Real Oviedo      L\n",
       "...               ...                ...    ...\n",
       "1207        Barcelona             Alaves      W\n",
       "1208          Sevilla          Barcelona      W\n",
       "1209         AC Milan          Barcelona      L\n",
       "1210        Barcelona               Roma      L\n",
       "1211        Barcelona  Tottenham Hotspur      D\n",
       "\n",
       "[1212 rows x 3 columns]"
      ]
     },
     "execution_count": 42,
     "metadata": {},
     "output_type": "execute_result"
    },
    {
     "data": {
      "text/html": [
       "<div>\n",
       "<style scoped>\n",
       "    .dataframe tbody tr th:only-of-type {\n",
       "        vertical-align: middle;\n",
       "    }\n",
       "\n",
       "    .dataframe tbody tr th {\n",
       "        vertical-align: top;\n",
       "    }\n",
       "\n",
       "    .dataframe thead th {\n",
       "        text-align: right;\n",
       "    }\n",
       "</style>\n",
       "<table border=\"1\" class=\"dataframe\">\n",
       "  <thead>\n",
       "    <tr style=\"text-align: right;\">\n",
       "      <th></th>\n",
       "      <th>Home</th>\n",
       "      <th>Away</th>\n",
       "      <th>result</th>\n",
       "    </tr>\n",
       "  </thead>\n",
       "  <tbody>\n",
       "    <tr>\n",
       "      <th>0</th>\n",
       "      <td>Barcelona</td>\n",
       "      <td>Celta Vigo</td>\n",
       "      <td>D</td>\n",
       "    </tr>\n",
       "    <tr>\n",
       "      <th>1</th>\n",
       "      <td>Celta Vigo</td>\n",
       "      <td>Barcelona</td>\n",
       "      <td>L</td>\n",
       "    </tr>\n",
       "    <tr>\n",
       "      <th>2</th>\n",
       "      <td>Barcelona</td>\n",
       "      <td>Valencia</td>\n",
       "      <td>W</td>\n",
       "    </tr>\n",
       "    <tr>\n",
       "      <th>3</th>\n",
       "      <td>Real Valladolid</td>\n",
       "      <td>Barcelona</td>\n",
       "      <td>D</td>\n",
       "    </tr>\n",
       "    <tr>\n",
       "      <th>4</th>\n",
       "      <td>Barcelona</td>\n",
       "      <td>Real Oviedo</td>\n",
       "      <td>L</td>\n",
       "    </tr>\n",
       "    <tr>\n",
       "      <th>...</th>\n",
       "      <td>...</td>\n",
       "      <td>...</td>\n",
       "      <td>...</td>\n",
       "    </tr>\n",
       "    <tr>\n",
       "      <th>1207</th>\n",
       "      <td>Barcelona</td>\n",
       "      <td>Alaves</td>\n",
       "      <td>W</td>\n",
       "    </tr>\n",
       "    <tr>\n",
       "      <th>1208</th>\n",
       "      <td>Sevilla</td>\n",
       "      <td>Barcelona</td>\n",
       "      <td>W</td>\n",
       "    </tr>\n",
       "    <tr>\n",
       "      <th>1209</th>\n",
       "      <td>AC Milan</td>\n",
       "      <td>Barcelona</td>\n",
       "      <td>L</td>\n",
       "    </tr>\n",
       "    <tr>\n",
       "      <th>1210</th>\n",
       "      <td>Barcelona</td>\n",
       "      <td>Roma</td>\n",
       "      <td>L</td>\n",
       "    </tr>\n",
       "    <tr>\n",
       "      <th>1211</th>\n",
       "      <td>Barcelona</td>\n",
       "      <td>Tottenham Hotspur</td>\n",
       "      <td>D</td>\n",
       "    </tr>\n",
       "  </tbody>\n",
       "</table>\n",
       "<p>1212 rows × 3 columns</p>\n",
       "</div>"
      ],
      "text/plain": [
       "                 Home               Away result\n",
       "0           Barcelona         Celta Vigo      D\n",
       "1          Celta Vigo          Barcelona      L\n",
       "2           Barcelona           Valencia      W\n",
       "3     Real Valladolid          Barcelona      D\n",
       "4           Barcelona        Real Oviedo      L\n",
       "...               ...                ...    ...\n",
       "1207        Barcelona             Alaves      W\n",
       "1208          Sevilla          Barcelona      W\n",
       "1209         AC Milan          Barcelona      L\n",
       "1210        Barcelona               Roma      L\n",
       "1211        Barcelona  Tottenham Hotspur      D\n",
       "\n",
       "[1212 rows x 3 columns]"
      ]
     },
     "execution_count": 42,
     "metadata": {},
     "output_type": "execute_result"
    }
   ],
   "source": [
    "barca_fix"
   ]
  },
  {
   "cell_type": "code",
   "execution_count": null,
   "id": "0d72aef8",
   "metadata": {},
   "outputs": [],
   "source": [
    "# a ='Los Angeles'.split(' ')\n",
    "# a.append('Home')\n",
    "# '_'.join(a)\n",
    "\n",
    "def transformHomeTeam(home):\n",
    "    team = home.split(' ')\n",
    "    team.append('Home')\n",
    "    return '_'.join(team)\n",
    "\n",
    "def transformAwayTeam(away):\n",
    "    team = away.split(' ')\n",
    "    team.append('Away')\n",
    "    return '_'.join(team)"
   ]
  },
  {
   "cell_type": "code",
   "execution_count": null,
   "id": "9720e44b",
   "metadata": {},
   "outputs": [
    {
     "data": {
      "text/html": [
       "<div>\n",
       "<style scoped>\n",
       "    .dataframe tbody tr th:only-of-type {\n",
       "        vertical-align: middle;\n",
       "    }\n",
       "\n",
       "    .dataframe tbody tr th {\n",
       "        vertical-align: top;\n",
       "    }\n",
       "\n",
       "    .dataframe thead th {\n",
       "        text-align: right;\n",
       "    }\n",
       "</style>\n",
       "<table border=\"1\" class=\"dataframe\">\n",
       "  <thead>\n",
       "    <tr style=\"text-align: right;\">\n",
       "      <th></th>\n",
       "      <th>Home</th>\n",
       "      <th>Away</th>\n",
       "      <th>result</th>\n",
       "    </tr>\n",
       "  </thead>\n",
       "  <tbody>\n",
       "    <tr>\n",
       "      <th>0</th>\n",
       "      <td>Barcelona_Home</td>\n",
       "      <td>Celta_Vigo_Away</td>\n",
       "      <td>D</td>\n",
       "    </tr>\n",
       "    <tr>\n",
       "      <th>1</th>\n",
       "      <td>Celta_Vigo_Home</td>\n",
       "      <td>Barcelona_Away</td>\n",
       "      <td>L</td>\n",
       "    </tr>\n",
       "    <tr>\n",
       "      <th>2</th>\n",
       "      <td>Barcelona_Home</td>\n",
       "      <td>Valencia_Away</td>\n",
       "      <td>W</td>\n",
       "    </tr>\n",
       "    <tr>\n",
       "      <th>3</th>\n",
       "      <td>Real_Valladolid_Home</td>\n",
       "      <td>Barcelona_Away</td>\n",
       "      <td>D</td>\n",
       "    </tr>\n",
       "    <tr>\n",
       "      <th>4</th>\n",
       "      <td>Barcelona_Home</td>\n",
       "      <td>Real_Oviedo_Away</td>\n",
       "      <td>L</td>\n",
       "    </tr>\n",
       "  </tbody>\n",
       "</table>\n",
       "</div>"
      ],
      "text/plain": [
       "                   Home              Away result\n",
       "0        Barcelona_Home   Celta_Vigo_Away      D\n",
       "1       Celta_Vigo_Home    Barcelona_Away      L\n",
       "2        Barcelona_Home     Valencia_Away      W\n",
       "3  Real_Valladolid_Home    Barcelona_Away      D\n",
       "4        Barcelona_Home  Real_Oviedo_Away      L"
      ]
     },
     "execution_count": 44,
     "metadata": {},
     "output_type": "execute_result"
    },
    {
     "data": {
      "text/html": [
       "<div>\n",
       "<style scoped>\n",
       "    .dataframe tbody tr th:only-of-type {\n",
       "        vertical-align: middle;\n",
       "    }\n",
       "\n",
       "    .dataframe tbody tr th {\n",
       "        vertical-align: top;\n",
       "    }\n",
       "\n",
       "    .dataframe thead th {\n",
       "        text-align: right;\n",
       "    }\n",
       "</style>\n",
       "<table border=\"1\" class=\"dataframe\">\n",
       "  <thead>\n",
       "    <tr style=\"text-align: right;\">\n",
       "      <th></th>\n",
       "      <th>Home</th>\n",
       "      <th>Away</th>\n",
       "      <th>result</th>\n",
       "    </tr>\n",
       "  </thead>\n",
       "  <tbody>\n",
       "    <tr>\n",
       "      <th>0</th>\n",
       "      <td>Barcelona_Home</td>\n",
       "      <td>Celta_Vigo_Away</td>\n",
       "      <td>D</td>\n",
       "    </tr>\n",
       "    <tr>\n",
       "      <th>1</th>\n",
       "      <td>Celta_Vigo_Home</td>\n",
       "      <td>Barcelona_Away</td>\n",
       "      <td>L</td>\n",
       "    </tr>\n",
       "    <tr>\n",
       "      <th>2</th>\n",
       "      <td>Barcelona_Home</td>\n",
       "      <td>Valencia_Away</td>\n",
       "      <td>W</td>\n",
       "    </tr>\n",
       "    <tr>\n",
       "      <th>3</th>\n",
       "      <td>Real_Valladolid_Home</td>\n",
       "      <td>Barcelona_Away</td>\n",
       "      <td>D</td>\n",
       "    </tr>\n",
       "    <tr>\n",
       "      <th>4</th>\n",
       "      <td>Barcelona_Home</td>\n",
       "      <td>Real_Oviedo_Away</td>\n",
       "      <td>L</td>\n",
       "    </tr>\n",
       "  </tbody>\n",
       "</table>\n",
       "</div>"
      ],
      "text/plain": [
       "                   Home              Away result\n",
       "0        Barcelona_Home   Celta_Vigo_Away      D\n",
       "1       Celta_Vigo_Home    Barcelona_Away      L\n",
       "2        Barcelona_Home     Valencia_Away      W\n",
       "3  Real_Valladolid_Home    Barcelona_Away      D\n",
       "4        Barcelona_Home  Real_Oviedo_Away      L"
      ]
     },
     "execution_count": 44,
     "metadata": {},
     "output_type": "execute_result"
    }
   ],
   "source": [
    "barca_fix['Home'] = barca_fix['Home'].apply(transformHomeTeam)\n",
    "barca_fix['Away'] = barca_fix['Away'].apply(transformAwayTeam)\n",
    "barca_fix.head()"
   ]
  },
  {
   "cell_type": "code",
   "execution_count": null,
   "id": "72018c29",
   "metadata": {},
   "outputs": [
    {
     "data": {
      "text/html": [
       "<div>\n",
       "<style scoped>\n",
       "    .dataframe tbody tr th:only-of-type {\n",
       "        vertical-align: middle;\n",
       "    }\n",
       "\n",
       "    .dataframe tbody tr th {\n",
       "        vertical-align: top;\n",
       "    }\n",
       "\n",
       "    .dataframe thead th {\n",
       "        text-align: right;\n",
       "    }\n",
       "</style>\n",
       "<table border=\"1\" class=\"dataframe\">\n",
       "  <thead>\n",
       "    <tr style=\"text-align: right;\">\n",
       "      <th></th>\n",
       "      <th>Home</th>\n",
       "      <th>Away</th>\n",
       "      <th>result</th>\n",
       "      <th>Fixtures</th>\n",
       "    </tr>\n",
       "  </thead>\n",
       "  <tbody>\n",
       "    <tr>\n",
       "      <th>0</th>\n",
       "      <td>Barcelona_Home</td>\n",
       "      <td>Celta_Vigo_Away</td>\n",
       "      <td>D</td>\n",
       "      <td>Barcelona_Home+Celta_Vigo_Away</td>\n",
       "    </tr>\n",
       "    <tr>\n",
       "      <th>1</th>\n",
       "      <td>Celta_Vigo_Home</td>\n",
       "      <td>Barcelona_Away</td>\n",
       "      <td>L</td>\n",
       "      <td>Celta_Vigo_Home+Barcelona_Away</td>\n",
       "    </tr>\n",
       "    <tr>\n",
       "      <th>2</th>\n",
       "      <td>Barcelona_Home</td>\n",
       "      <td>Valencia_Away</td>\n",
       "      <td>W</td>\n",
       "      <td>Barcelona_Home+Valencia_Away</td>\n",
       "    </tr>\n",
       "    <tr>\n",
       "      <th>3</th>\n",
       "      <td>Real_Valladolid_Home</td>\n",
       "      <td>Barcelona_Away</td>\n",
       "      <td>D</td>\n",
       "      <td>Real_Valladolid_Home+Barcelona_Away</td>\n",
       "    </tr>\n",
       "    <tr>\n",
       "      <th>4</th>\n",
       "      <td>Barcelona_Home</td>\n",
       "      <td>Real_Oviedo_Away</td>\n",
       "      <td>L</td>\n",
       "      <td>Barcelona_Home+Real_Oviedo_Away</td>\n",
       "    </tr>\n",
       "  </tbody>\n",
       "</table>\n",
       "</div>"
      ],
      "text/plain": [
       "                   Home              Away result  \\\n",
       "0        Barcelona_Home   Celta_Vigo_Away      D   \n",
       "1       Celta_Vigo_Home    Barcelona_Away      L   \n",
       "2        Barcelona_Home     Valencia_Away      W   \n",
       "3  Real_Valladolid_Home    Barcelona_Away      D   \n",
       "4        Barcelona_Home  Real_Oviedo_Away      L   \n",
       "\n",
       "                              Fixtures  \n",
       "0       Barcelona_Home+Celta_Vigo_Away  \n",
       "1       Celta_Vigo_Home+Barcelona_Away  \n",
       "2         Barcelona_Home+Valencia_Away  \n",
       "3  Real_Valladolid_Home+Barcelona_Away  \n",
       "4      Barcelona_Home+Real_Oviedo_Away  "
      ]
     },
     "execution_count": 45,
     "metadata": {},
     "output_type": "execute_result"
    },
    {
     "data": {
      "text/html": [
       "<div>\n",
       "<style scoped>\n",
       "    .dataframe tbody tr th:only-of-type {\n",
       "        vertical-align: middle;\n",
       "    }\n",
       "\n",
       "    .dataframe tbody tr th {\n",
       "        vertical-align: top;\n",
       "    }\n",
       "\n",
       "    .dataframe thead th {\n",
       "        text-align: right;\n",
       "    }\n",
       "</style>\n",
       "<table border=\"1\" class=\"dataframe\">\n",
       "  <thead>\n",
       "    <tr style=\"text-align: right;\">\n",
       "      <th></th>\n",
       "      <th>Home</th>\n",
       "      <th>Away</th>\n",
       "      <th>result</th>\n",
       "      <th>Fixtures</th>\n",
       "    </tr>\n",
       "  </thead>\n",
       "  <tbody>\n",
       "    <tr>\n",
       "      <th>0</th>\n",
       "      <td>Barcelona_Home</td>\n",
       "      <td>Celta_Vigo_Away</td>\n",
       "      <td>D</td>\n",
       "      <td>Barcelona_Home+Celta_Vigo_Away</td>\n",
       "    </tr>\n",
       "    <tr>\n",
       "      <th>1</th>\n",
       "      <td>Celta_Vigo_Home</td>\n",
       "      <td>Barcelona_Away</td>\n",
       "      <td>L</td>\n",
       "      <td>Celta_Vigo_Home+Barcelona_Away</td>\n",
       "    </tr>\n",
       "    <tr>\n",
       "      <th>2</th>\n",
       "      <td>Barcelona_Home</td>\n",
       "      <td>Valencia_Away</td>\n",
       "      <td>W</td>\n",
       "      <td>Barcelona_Home+Valencia_Away</td>\n",
       "    </tr>\n",
       "    <tr>\n",
       "      <th>3</th>\n",
       "      <td>Real_Valladolid_Home</td>\n",
       "      <td>Barcelona_Away</td>\n",
       "      <td>D</td>\n",
       "      <td>Real_Valladolid_Home+Barcelona_Away</td>\n",
       "    </tr>\n",
       "    <tr>\n",
       "      <th>4</th>\n",
       "      <td>Barcelona_Home</td>\n",
       "      <td>Real_Oviedo_Away</td>\n",
       "      <td>L</td>\n",
       "      <td>Barcelona_Home+Real_Oviedo_Away</td>\n",
       "    </tr>\n",
       "  </tbody>\n",
       "</table>\n",
       "</div>"
      ],
      "text/plain": [
       "                   Home              Away result  \\\n",
       "0        Barcelona_Home   Celta_Vigo_Away      D   \n",
       "1       Celta_Vigo_Home    Barcelona_Away      L   \n",
       "2        Barcelona_Home     Valencia_Away      W   \n",
       "3  Real_Valladolid_Home    Barcelona_Away      D   \n",
       "4        Barcelona_Home  Real_Oviedo_Away      L   \n",
       "\n",
       "                              Fixtures  \n",
       "0       Barcelona_Home+Celta_Vigo_Away  \n",
       "1       Celta_Vigo_Home+Barcelona_Away  \n",
       "2         Barcelona_Home+Valencia_Away  \n",
       "3  Real_Valladolid_Home+Barcelona_Away  \n",
       "4      Barcelona_Home+Real_Oviedo_Away  "
      ]
     },
     "execution_count": 45,
     "metadata": {},
     "output_type": "execute_result"
    }
   ],
   "source": [
    "def transformHomeAwayTeam(home, away):\n",
    "    return f\"{home}+{away}\"\n",
    "# transformHomeAwayTeam('a','b')\n",
    "barca_fix['Fixtures'] = np.vectorize(transformHomeAwayTeam)(barca_fix['Home'], barca_fix['Away'])\n",
    "barca_fix.head()"
   ]
  },
  {
   "cell_type": "code",
   "execution_count": null,
   "id": "886f7d50",
   "metadata": {},
   "outputs": [
    {
     "data": {
      "text/html": [
       "<div>\n",
       "<style scoped>\n",
       "    .dataframe tbody tr th:only-of-type {\n",
       "        vertical-align: middle;\n",
       "    }\n",
       "\n",
       "    .dataframe tbody tr th {\n",
       "        vertical-align: top;\n",
       "    }\n",
       "\n",
       "    .dataframe thead th {\n",
       "        text-align: right;\n",
       "    }\n",
       "</style>\n",
       "<table border=\"1\" class=\"dataframe\">\n",
       "  <thead>\n",
       "    <tr style=\"text-align: right;\">\n",
       "      <th></th>\n",
       "      <th>Fixtures</th>\n",
       "      <th>result</th>\n",
       "    </tr>\n",
       "  </thead>\n",
       "  <tbody>\n",
       "    <tr>\n",
       "      <th>0</th>\n",
       "      <td>Barcelona_Home+Celta_Vigo_Away</td>\n",
       "      <td>D</td>\n",
       "    </tr>\n",
       "    <tr>\n",
       "      <th>1</th>\n",
       "      <td>Celta_Vigo_Home+Barcelona_Away</td>\n",
       "      <td>L</td>\n",
       "    </tr>\n",
       "    <tr>\n",
       "      <th>2</th>\n",
       "      <td>Barcelona_Home+Valencia_Away</td>\n",
       "      <td>W</td>\n",
       "    </tr>\n",
       "    <tr>\n",
       "      <th>3</th>\n",
       "      <td>Real_Valladolid_Home+Barcelona_Away</td>\n",
       "      <td>D</td>\n",
       "    </tr>\n",
       "    <tr>\n",
       "      <th>4</th>\n",
       "      <td>Barcelona_Home+Real_Oviedo_Away</td>\n",
       "      <td>L</td>\n",
       "    </tr>\n",
       "    <tr>\n",
       "      <th>...</th>\n",
       "      <td>...</td>\n",
       "      <td>...</td>\n",
       "    </tr>\n",
       "    <tr>\n",
       "      <th>1207</th>\n",
       "      <td>Barcelona_Home+Alaves_Away</td>\n",
       "      <td>W</td>\n",
       "    </tr>\n",
       "    <tr>\n",
       "      <th>1208</th>\n",
       "      <td>Sevilla_Home+Barcelona_Away</td>\n",
       "      <td>W</td>\n",
       "    </tr>\n",
       "    <tr>\n",
       "      <th>1209</th>\n",
       "      <td>AC_Milan_Home+Barcelona_Away</td>\n",
       "      <td>L</td>\n",
       "    </tr>\n",
       "    <tr>\n",
       "      <th>1210</th>\n",
       "      <td>Barcelona_Home+Roma_Away</td>\n",
       "      <td>L</td>\n",
       "    </tr>\n",
       "    <tr>\n",
       "      <th>1211</th>\n",
       "      <td>Barcelona_Home+Tottenham_Hotspur_Away</td>\n",
       "      <td>D</td>\n",
       "    </tr>\n",
       "  </tbody>\n",
       "</table>\n",
       "<p>1212 rows × 2 columns</p>\n",
       "</div>"
      ],
      "text/plain": [
       "                                   Fixtures result\n",
       "0            Barcelona_Home+Celta_Vigo_Away      D\n",
       "1            Celta_Vigo_Home+Barcelona_Away      L\n",
       "2              Barcelona_Home+Valencia_Away      W\n",
       "3       Real_Valladolid_Home+Barcelona_Away      D\n",
       "4           Barcelona_Home+Real_Oviedo_Away      L\n",
       "...                                     ...    ...\n",
       "1207             Barcelona_Home+Alaves_Away      W\n",
       "1208            Sevilla_Home+Barcelona_Away      W\n",
       "1209           AC_Milan_Home+Barcelona_Away      L\n",
       "1210               Barcelona_Home+Roma_Away      L\n",
       "1211  Barcelona_Home+Tottenham_Hotspur_Away      D\n",
       "\n",
       "[1212 rows x 2 columns]"
      ]
     },
     "execution_count": 46,
     "metadata": {},
     "output_type": "execute_result"
    },
    {
     "data": {
      "text/html": [
       "<div>\n",
       "<style scoped>\n",
       "    .dataframe tbody tr th:only-of-type {\n",
       "        vertical-align: middle;\n",
       "    }\n",
       "\n",
       "    .dataframe tbody tr th {\n",
       "        vertical-align: top;\n",
       "    }\n",
       "\n",
       "    .dataframe thead th {\n",
       "        text-align: right;\n",
       "    }\n",
       "</style>\n",
       "<table border=\"1\" class=\"dataframe\">\n",
       "  <thead>\n",
       "    <tr style=\"text-align: right;\">\n",
       "      <th></th>\n",
       "      <th>Fixtures</th>\n",
       "      <th>result</th>\n",
       "    </tr>\n",
       "  </thead>\n",
       "  <tbody>\n",
       "    <tr>\n",
       "      <th>0</th>\n",
       "      <td>Barcelona_Home+Celta_Vigo_Away</td>\n",
       "      <td>D</td>\n",
       "    </tr>\n",
       "    <tr>\n",
       "      <th>1</th>\n",
       "      <td>Celta_Vigo_Home+Barcelona_Away</td>\n",
       "      <td>L</td>\n",
       "    </tr>\n",
       "    <tr>\n",
       "      <th>2</th>\n",
       "      <td>Barcelona_Home+Valencia_Away</td>\n",
       "      <td>W</td>\n",
       "    </tr>\n",
       "    <tr>\n",
       "      <th>3</th>\n",
       "      <td>Real_Valladolid_Home+Barcelona_Away</td>\n",
       "      <td>D</td>\n",
       "    </tr>\n",
       "    <tr>\n",
       "      <th>4</th>\n",
       "      <td>Barcelona_Home+Real_Oviedo_Away</td>\n",
       "      <td>L</td>\n",
       "    </tr>\n",
       "    <tr>\n",
       "      <th>...</th>\n",
       "      <td>...</td>\n",
       "      <td>...</td>\n",
       "    </tr>\n",
       "    <tr>\n",
       "      <th>1207</th>\n",
       "      <td>Barcelona_Home+Alaves_Away</td>\n",
       "      <td>W</td>\n",
       "    </tr>\n",
       "    <tr>\n",
       "      <th>1208</th>\n",
       "      <td>Sevilla_Home+Barcelona_Away</td>\n",
       "      <td>W</td>\n",
       "    </tr>\n",
       "    <tr>\n",
       "      <th>1209</th>\n",
       "      <td>AC_Milan_Home+Barcelona_Away</td>\n",
       "      <td>L</td>\n",
       "    </tr>\n",
       "    <tr>\n",
       "      <th>1210</th>\n",
       "      <td>Barcelona_Home+Roma_Away</td>\n",
       "      <td>L</td>\n",
       "    </tr>\n",
       "    <tr>\n",
       "      <th>1211</th>\n",
       "      <td>Barcelona_Home+Tottenham_Hotspur_Away</td>\n",
       "      <td>D</td>\n",
       "    </tr>\n",
       "  </tbody>\n",
       "</table>\n",
       "<p>1212 rows × 2 columns</p>\n",
       "</div>"
      ],
      "text/plain": [
       "                                   Fixtures result\n",
       "0            Barcelona_Home+Celta_Vigo_Away      D\n",
       "1            Celta_Vigo_Home+Barcelona_Away      L\n",
       "2              Barcelona_Home+Valencia_Away      W\n",
       "3       Real_Valladolid_Home+Barcelona_Away      D\n",
       "4           Barcelona_Home+Real_Oviedo_Away      L\n",
       "...                                     ...    ...\n",
       "1207             Barcelona_Home+Alaves_Away      W\n",
       "1208            Sevilla_Home+Barcelona_Away      W\n",
       "1209           AC_Milan_Home+Barcelona_Away      L\n",
       "1210               Barcelona_Home+Roma_Away      L\n",
       "1211  Barcelona_Home+Tottenham_Hotspur_Away      D\n",
       "\n",
       "[1212 rows x 2 columns]"
      ]
     },
     "execution_count": 46,
     "metadata": {},
     "output_type": "execute_result"
    }
   ],
   "source": [
    "barca_fix = barca_fix[['Fixtures', 'result']]\n",
    "barca_fix"
   ]
  },
  {
   "cell_type": "code",
   "execution_count": null,
   "id": "b3aa0963",
   "metadata": {},
   "outputs": [],
   "source": [
    "X = barca_fix['Fixtures']"
   ]
  },
  {
   "cell_type": "code",
   "execution_count": null,
   "id": "95e6cb8b",
   "metadata": {},
   "outputs": [],
   "source": [
    "y = barca_fix['result']"
   ]
  },
  {
   "cell_type": "code",
   "execution_count": null,
   "id": "4ee7f34a",
   "metadata": {},
   "outputs": [],
   "source": [
    "from sklearn.model_selection import train_test_split"
   ]
  },
  {
   "cell_type": "code",
   "execution_count": null,
   "id": "99ab5a74",
   "metadata": {},
   "outputs": [],
   "source": [
    "X_train, X_test, y_train, y_test = train_test_split(X, y, test_size=0.10, random_state=42)"
   ]
  },
  {
   "cell_type": "code",
   "execution_count": null,
   "id": "22febf96",
   "metadata": {},
   "outputs": [],
   "source": [
    "from sklearn.feature_extraction.text import TfidfVectorizer"
   ]
  },
  {
   "cell_type": "code",
   "execution_count": null,
   "id": "1ec282cf",
   "metadata": {},
   "outputs": [],
   "source": [
    "tfidf = TfidfVectorizer(stop_words='english')"
   ]
  },
  {
   "cell_type": "code",
   "execution_count": null,
   "id": "05322567",
   "metadata": {},
   "outputs": [],
   "source": [
    "X_train_tfidf = tfidf.fit_transform(X_train)"
   ]
  },
  {
   "cell_type": "code",
   "execution_count": null,
   "id": "3b6a997f",
   "metadata": {},
   "outputs": [],
   "source": [
    "X_test_tfidf = tfidf.transform(X_test)"
   ]
  },
  {
   "cell_type": "code",
   "execution_count": null,
   "id": "c26f31fa",
   "metadata": {},
   "outputs": [],
   "source": [
    "from sklearn.naive_bayes import MultinomialNB\n",
    "from sklearn.linear_model import LogisticRegression\n",
    "from sklearn.svm import LinearSVC,SVC\n",
    "from sklearn.model_selection import GridSearchCV\n",
    "from sklearn.metrics import plot_confusion_matrix, classification_report"
   ]
  },
  {
   "cell_type": "code",
   "execution_count": null,
   "id": "533e6ad1",
   "metadata": {},
   "outputs": [],
   "source": [
    "def report(model):\n",
    "    preds = model.predict(X_test_tfidf)\n",
    "    print(classification_report(y_test, preds))\n",
    "    plot_confusion_matrix(model, X_test_tfidf, y_test)"
   ]
  },
  {
   "cell_type": "code",
   "execution_count": null,
   "id": "0a3da763",
   "metadata": {},
   "outputs": [
    {
     "data": {
      "text/plain": [
       "MultinomialNB()"
      ]
     },
     "execution_count": 57,
     "metadata": {},
     "output_type": "execute_result"
    },
    {
     "data": {
      "text/plain": [
       "MultinomialNB()"
      ]
     },
     "execution_count": 57,
     "metadata": {},
     "output_type": "execute_result"
    }
   ],
   "source": [
    "nb = MultinomialNB()\n",
    "nb.fit(X_train_tfidf, y_train)"
   ]
  },
  {
   "cell_type": "code",
   "execution_count": null,
   "id": "43377a29",
   "metadata": {},
   "outputs": [
    {
     "data": {
      "text/plain": [
       "LogisticRegression()"
      ]
     },
     "execution_count": 58,
     "metadata": {},
     "output_type": "execute_result"
    },
    {
     "data": {
      "text/plain": [
       "LogisticRegression()"
      ]
     },
     "execution_count": 58,
     "metadata": {},
     "output_type": "execute_result"
    }
   ],
   "source": [
    "log_model = LogisticRegression()\n",
    "log_model.fit(X_train_tfidf, y_train)"
   ]
  },
  {
   "cell_type": "code",
   "execution_count": null,
   "id": "5b327412",
   "metadata": {},
   "outputs": [
    {
     "data": {
      "text/plain": [
       "SVC()"
      ]
     },
     "execution_count": 59,
     "metadata": {},
     "output_type": "execute_result"
    },
    {
     "data": {
      "text/plain": [
       "SVC()"
      ]
     },
     "execution_count": 59,
     "metadata": {},
     "output_type": "execute_result"
    }
   ],
   "source": [
    "svc = SVC()\n",
    "svc.fit(X_train_tfidf, y_train)"
   ]
  },
  {
   "cell_type": "code",
   "execution_count": null,
   "id": "0e6a1535",
   "metadata": {},
   "outputs": [],
   "source": [
    "# svc_2 = SVC()"
   ]
  },
  {
   "cell_type": "code",
   "execution_count": null,
   "id": "5af63412",
   "metadata": {},
   "outputs": [],
   "source": [
    "# kernel = ['linear', 'rbf']\n",
    "# degree = [2, 3, 4, 5, 6]\n",
    "# c = [0.01, 0.1, 0.5, 1]\n",
    "# param_grid = {'kernel': kernel, 'degree':degree, 'C': c}"
   ]
  },
  {
   "cell_type": "code",
   "execution_count": null,
   "id": "3981293c",
   "metadata": {},
   "outputs": [],
   "source": [
    "# grid_model = GridSearchCV(svc_2,param_grid=param_grid)"
   ]
  },
  {
   "cell_type": "code",
   "execution_count": null,
   "id": "b1b11f7d",
   "metadata": {},
   "outputs": [],
   "source": [
    "# grid_model.fit(X_train_tfidf, y_train)"
   ]
  },
  {
   "cell_type": "code",
   "execution_count": null,
   "id": "1d52cde9",
   "metadata": {},
   "outputs": [
    {
     "name": "stdout",
     "output_type": "stream",
     "text": [
      "              precision    recall  f1-score   support\n",
      "\n",
      "           D       0.50      0.14      0.21        22\n",
      "           L       0.00      0.00      0.00        18\n",
      "           W       0.69      0.94      0.79        82\n",
      "\n",
      "    accuracy                           0.66       122\n",
      "   macro avg       0.40      0.36      0.34       122\n",
      "weighted avg       0.55      0.66      0.57       122\n",
      "\n",
      "              precision    recall  f1-score   support\n",
      "\n",
      "           D       0.50      0.14      0.21        22\n",
      "           L       0.00      0.00      0.00        18\n",
      "           W       0.69      0.94      0.79        82\n",
      "\n",
      "    accuracy                           0.66       122\n",
      "   macro avg       0.40      0.36      0.34       122\n",
      "weighted avg       0.55      0.66      0.57       122\n",
      "\n"
     ]
    },
    {
     "data": {
      "image/png": "[encoded data removed]",
      "text/plain": [
       "<Figure size 432x288 with 2 Axes>"
      ]
     },
     "metadata": {
      "needs_background": "light"
     },
     "output_type": "display_data"
    },
    {
     "data": {
      "image/png": "[encoded data removed]",
      "text/plain": [
       "<Figure size 432x288 with 2 Axes>"
      ]
     },
     "metadata": {
      "needs_background": "light"
     },
     "output_type": "display_data"
    }
   ],
   "source": [
    "report(svc)"
   ]
  },
  {
   "cell_type": "code",
   "execution_count": null,
   "id": "2bd0f2ad",
   "metadata": {},
   "outputs": [
    {
     "name": "stdout",
     "output_type": "stream",
     "text": [
      "              precision    recall  f1-score   support\n",
      "\n",
      "           D       0.00      0.00      0.00        22\n",
      "           L       0.00      0.00      0.00        18\n",
      "           W       0.67      0.95      0.78        82\n",
      "\n",
      "    accuracy                           0.64       122\n",
      "   macro avg       0.22      0.32      0.26       122\n",
      "weighted avg       0.45      0.64      0.53       122\n",
      "\n",
      "              precision    recall  f1-score   support\n",
      "\n",
      "           D       0.00      0.00      0.00        22\n",
      "           L       0.00      0.00      0.00        18\n",
      "           W       0.67      0.95      0.78        82\n",
      "\n",
      "    accuracy                           0.64       122\n",
      "   macro avg       0.22      0.32      0.26       122\n",
      "weighted avg       0.45      0.64      0.53       122\n",
      "\n"
     ]
    },
    {
     "data": {
      "image/png": "[encoded data removed]",
      "text/plain": [
       "<Figure size 432x288 with 2 Axes>"
      ]
     },
     "metadata": {
      "needs_background": "light"
     },
     "output_type": "display_data"
    },
    {
     "data": {
      "image/png": "[encoded data removed]",
      "text/plain": [
       "<Figure size 432x288 with 2 Axes>"
      ]
     },
     "metadata": {
      "needs_background": "light"
     },
     "output_type": "display_data"
    }
   ],
   "source": [
    "report(log_model)"
   ]
  },
  {
   "cell_type": "code",
   "execution_count": null,
   "id": "3057f5fe",
   "metadata": {},
   "outputs": [
    {
     "name": "stdout",
     "output_type": "stream",
     "text": [
      "              precision    recall  f1-score   support\n",
      "\n",
      "           D       0.25      0.05      0.08        22\n",
      "           L       0.00      0.00      0.00        18\n",
      "           W       0.68      0.91      0.78        82\n",
      "\n",
      "    accuracy                           0.62       122\n",
      "   macro avg       0.31      0.32      0.28       122\n",
      "weighted avg       0.50      0.62      0.54       122\n",
      "\n",
      "              precision    recall  f1-score   support\n",
      "\n",
      "           D       0.25      0.05      0.08        22\n",
      "           L       0.00      0.00      0.00        18\n",
      "           W       0.68      0.91      0.78        82\n",
      "\n",
      "    accuracy                           0.62       122\n",
      "   macro avg       0.31      0.32      0.28       122\n",
      "weighted avg       0.50      0.62      0.54       122\n",
      "\n"
     ]
    },
    {
     "data": {
      "image/png": "[encoded data removed]",
      "text/plain": [
       "<Figure size 432x288 with 2 Axes>"
      ]
     },
     "metadata": {
      "needs_background": "light"
     },
     "output_type": "display_data"
    },
    {
     "data": {
      "image/png": "[encoded data removed]",
      "text/plain": [
       "<Figure size 432x288 with 2 Axes>"
      ]
     },
     "metadata": {
      "needs_background": "light"
     },
     "output_type": "display_data"
    }
   ],
   "source": [
    "report(nb)"
   ]
  },
  {
   "cell_type": "code",
   "execution_count": null,
   "id": "c961fbb2",
   "metadata": {},
   "outputs": [],
   "source": []
  }
 ],
 "metadata": {
  "kernelspec": {
   "display_name": "Python 3",
   "language": "python",
   "name": "python3"
  },
  "language_info": {
   "codemirror_mode": {
    "name": "ipython",
    "version": 3
   },
   "file_extension": ".py",
   "mimetype": "text/x-python",
   "name": "python",
   "nbconvert_exporter": "python",
   "pygments_lexer": "ipython3",
   "version": "3.8.8"
  }
 },
 "nbformat": 4,
 "nbformat_minor": 5
}
