{
 "cells": [
  {
   "cell_type": "code",
   "execution_count": 1,
   "id": "b91f39b8",
   "metadata": {},
   "outputs": [],
   "source": [
    "import numpy as np\n",
    "import pandas as pd\n",
    "import matplotlib.pyplot as plt\n",
    "import seaborn as sns"
   ]
  },
  {
   "cell_type": "code",
   "execution_count": 2,
   "id": "53c6cc0e",
   "metadata": {},
   "outputs": [],
   "source": [
    "fixtures = pd.read_json('C://Users//PHAVVAZ//Documents//MyProject//Programming//la_Predire//data/fixtures.json')"
   ]
  },
  {
   "cell_type": "code",
   "execution_count": 3,
   "id": "ba9a5f78",
   "metadata": {},
   "outputs": [
    {
     "data": {
      "text/html": [
       "<div>\n",
       "<style scoped>\n",
       "    .dataframe tbody tr th:only-of-type {\n",
       "        vertical-align: middle;\n",
       "    }\n",
       "\n",
       "    .dataframe tbody tr th {\n",
       "        vertical-align: top;\n",
       "    }\n",
       "\n",
       "    .dataframe thead th {\n",
       "        text-align: right;\n",
       "    }\n",
       "</style>\n",
       "<table border=\"1\" class=\"dataframe\">\n",
       "  <thead>\n",
       "    <tr style=\"text-align: right;\">\n",
       "      <th></th>\n",
       "      <th>Competion</th>\n",
       "      <th>Home</th>\n",
       "      <th>Away</th>\n",
       "      <th>Home_score</th>\n",
       "      <th>Away_score</th>\n",
       "      <th>Season</th>\n",
       "    </tr>\n",
       "  </thead>\n",
       "  <tbody>\n",
       "    <tr>\n",
       "      <th>0</th>\n",
       "      <td>SpanishLaLiga</td>\n",
       "      <td>AthleticBilbao</td>\n",
       "      <td>Barcelona</td>\n",
       "      <td>3</td>\n",
       "      <td>1</td>\n",
       "      <td>2005-2006</td>\n",
       "    </tr>\n",
       "    <tr>\n",
       "      <th>1</th>\n",
       "      <td>SpanishLaLiga</td>\n",
       "      <td>Barcelona</td>\n",
       "      <td>Arsenal</td>\n",
       "      <td>2</td>\n",
       "      <td>1</td>\n",
       "      <td>2005-2006</td>\n",
       "    </tr>\n",
       "    <tr>\n",
       "      <th>2</th>\n",
       "      <td>SpanishLaLiga</td>\n",
       "      <td>Sevilla</td>\n",
       "      <td>Barcelona</td>\n",
       "      <td>3</td>\n",
       "      <td>2</td>\n",
       "      <td>2005-2006</td>\n",
       "    </tr>\n",
       "    <tr>\n",
       "      <th>3</th>\n",
       "      <td>SpanishLaLiga</td>\n",
       "      <td>Barcelona</td>\n",
       "      <td>Espanyol</td>\n",
       "      <td>2</td>\n",
       "      <td>0</td>\n",
       "      <td>2005-2006</td>\n",
       "    </tr>\n",
       "    <tr>\n",
       "      <th>4</th>\n",
       "      <td>SpanishLaLiga</td>\n",
       "      <td>CeltaVigo</td>\n",
       "      <td>Barcelona</td>\n",
       "      <td>0</td>\n",
       "      <td>1</td>\n",
       "      <td>2005-2006</td>\n",
       "    </tr>\n",
       "  </tbody>\n",
       "</table>\n",
       "</div>"
      ],
      "text/plain": [
       "       Competion            Home       Away  Home_score  Away_score     Season\n",
       "0  SpanishLaLiga  AthleticBilbao  Barcelona           3           1  2005-2006\n",
       "1  SpanishLaLiga       Barcelona    Arsenal           2           1  2005-2006\n",
       "2  SpanishLaLiga         Sevilla  Barcelona           3           2  2005-2006\n",
       "3  SpanishLaLiga       Barcelona   Espanyol           2           0  2005-2006\n",
       "4  SpanishLaLiga       CeltaVigo  Barcelona           0           1  2005-2006"
      ]
     },
     "execution_count": 3,
     "metadata": {},
     "output_type": "execute_result"
    }
   ],
   "source": [
    "fixtures.head()"
   ]
  },
  {
   "cell_type": "code",
   "execution_count": 4,
   "id": "1cb1eed3",
   "metadata": {},
   "outputs": [
    {
     "name": "stdout",
     "output_type": "stream",
     "text": [
      "<class 'pandas.core.frame.DataFrame'>\n",
      "RangeIndex: 969 entries, 0 to 968\n",
      "Data columns (total 6 columns):\n",
      " #   Column      Non-Null Count  Dtype \n",
      "---  ------      --------------  ----- \n",
      " 0   Competion   969 non-null    object\n",
      " 1   Home        969 non-null    object\n",
      " 2   Away        969 non-null    object\n",
      " 3   Home_score  969 non-null    int64 \n",
      " 4   Away_score  969 non-null    int64 \n",
      " 5   Season      969 non-null    object\n",
      "dtypes: int64(2), object(4)\n",
      "memory usage: 45.5+ KB\n"
     ]
    }
   ],
   "source": [
    "fixtures.info()"
   ]
  },
  {
   "cell_type": "code",
   "execution_count": null,
   "id": "bdaaab88",
   "metadata": {},
   "outputs": [],
   "source": [
    "fixtures.describe"
   ]
  }
 ],
 "metadata": {
  "kernelspec": {
   "display_name": "Python 3",
   "language": "python",
   "name": "python3"
  },
  "language_info": {
   "codemirror_mode": {
    "name": "ipython",
    "version": 3
   },
   "file_extension": ".py",
   "mimetype": "text/x-python",
   "name": "python",
   "nbconvert_exporter": "python",
   "pygments_lexer": "ipython3",
   "version": "3.8.10"
  }
 },
 "nbformat": 4,
 "nbformat_minor": 5
}
